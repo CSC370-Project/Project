{
 "cells": [
  {
   "cell_type": "markdown",
   "metadata": {},
   "source": [
    "# Script"
   ]
  },
  {
   "cell_type": "markdown",
   "metadata": {},
   "source": [
    "## Pt.1"
   ]
  },
  {
   "cell_type": "markdown",
   "metadata": {},
   "source": [
    "- Small change, stock has history is now one to many\n",
    "- A stock's history isn't a single entity, rather is composed of a list of dates."
   ]
  },
  {
   "cell_type": "markdown",
   "metadata": {},
   "source": [
    "## Pt.2"
   ]
  },
  {
   "cell_type": "markdown",
   "metadata": {},
   "source": [
    "Since we planned for multiple users accessing a database during the first sprint, we decided each table should be populated with unique keys - it turns out this resulted in a BCNF database design.\n",
    "\n",
    "\n",
    "1. **Functional Dependencies:**\n",
    "   - In the `PortfolioHasStock`, `AllocationHasStock`, `StockHasHistory`, `SessionHasPortfolio`, and `PortfolioHasAllocation` tables, the primary keys are composite keys made up of foreign keys (`PortfolioID`, `StockID`, `AllocID`, `HistoryID`, and `SessionID`). Each of these tables has functional dependencies where the entire primary key determines the other attributes.\n",
    "\n",
    "2. **Keys and Superkeys:**\n",
    "   - Each table has a primary key, which can be considered a superkey since it uniquely identifies each tuple in the table.\n",
    "   - Additionally, since the primary keys are composed of foreign keys in the relationship tables, they are minimal superkeys, meaning no subset of their attributes can uniquely identify a tuple.\n",
    "\n",
    "3. **Closures:**\n",
    "   - The closure of each table's primary key includes all attributes of that table. This implies that each table is self-sufficient and every attribute is functionally determined by the primary key.\n",
    "\n",
    "Therefore, based on the examination of functional dependencies, keys, and closures, the given database schema satisfies the requirements of Boyce-Codd Normal Form (BCNF).\n",
    "\n",
    "**Implications for lossless joins:**\n",
    "\n",
    "1. **Decomposition:** If you decompose any of the tables into smaller tables while ensuring BCNF, the resulting smaller tables will still preserve the information necessary to reconstruct the original table.\n",
    "2. **Joins:** When you need to retrieve data from multiple tables, you can join them using the foreign key-primary key relationships established in the schema. Because of the way the tables are structured, joining them will not result in any loss of information, as each tuple in the joined tables will correspond to a valid combination of tuples from the original tables.\n",
    "\n",
    "The lossless join property in this database schema ensures that you can decompose tables into smaller, BCNF-compliant tables and join them together without losing any information, thereby maintaining data integrity.\n",
    "\n"
   ]
  }
 ],
 "metadata": {
  "language_info": {
   "name": "python"
  }
 },
 "nbformat": 4,
 "nbformat_minor": 2
}
