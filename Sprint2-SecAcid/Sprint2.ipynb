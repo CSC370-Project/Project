{
 "cells": [
  {
   "cell_type": "markdown",
   "metadata": {},
   "source": [
    "# Sprint 2 - Basic Security, Acid transactions"
   ]
  },
  {
   "cell_type": "markdown",
   "metadata": {},
   "source": [
    "## TODO:"
   ]
  },
  {
   "cell_type": "markdown",
   "metadata": {},
   "source": [
    "### [ ] Begin CLI (low priority)"
   ]
  },
  {
   "cell_type": "markdown",
   "metadata": {},
   "source": [
    "\\+ NOTE: WORK ON THE UVIC CS SERVER"
   ]
  },
  {
   "cell_type": "markdown",
   "metadata": {
    "vscode": {
     "languageId": "plaintext"
    }
   },
   "source": [
    "- Difficult to do allocation at this time, since program is nonexistent\n",
    "- For *this* sprint, attempt to get the beginning of a working program, i.e. command line interface\n",
    "  - Generates sql database\n",
    "  - Asks for tickers\n",
    "  - Get data for tickers from yf\n",
    "  - Populate database with stock data\n",
    "- *Next* sprint, we will make another module which creates the allocation."
   ]
  },
  {
   "cell_type": "markdown",
   "metadata": {},
   "source": [
    "Requirements:\n",
    "- Write down exactly what commands were run to create sql server\n",
    "  - These need to be in the readme so that the user can access the program\n",
    "  - Probably the user will have to create their own server; including step-by-step in hte readme will be good practice and allow the program to be universally usable\n",
    "- "
   ]
  },
  {
   "cell_type": "markdown",
   "metadata": {},
   "source": [
    "GPT prompt: \"Write a python program which generates this database in an sql (mysql/mariadb) session, asks for a set of tickers (command line interface) and then uses yfinance to populate the database with one month of stock data for each ticker (do not write code to populate the allocation table)\""
   ]
  },
  {
   "cell_type": "markdown",
   "metadata": {},
   "source": []
  }
 ],
 "metadata": {
  "language_info": {
   "name": "python"
  }
 },
 "nbformat": 4,
 "nbformat_minor": 2
}
