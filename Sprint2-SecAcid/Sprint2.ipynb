{
 "cells": [
  {
   "cell_type": "markdown",
   "metadata": {},
   "source": [
    "# Sprint 2 - Basic Security, Acid transactions"
   ]
  },
  {
   "cell_type": "markdown",
   "metadata": {},
   "source": [
    "## TODO:"
   ]
  },
  {
   "cell_type": "markdown",
   "metadata": {},
   "source": [
    "### Begin CLI (low priority)"
   ]
  },
  {
   "cell_type": "markdown",
   "metadata": {},
   "source": [
    "\\+ NOTE: WORK ON THE UVIC CS SERVER"
   ]
  },
  {
   "cell_type": "markdown",
   "metadata": {
    "vscode": {
     "languageId": "plaintext"
    }
   },
   "source": [
    "- Difficult to do allocation at this time, since program is nonexistent\n",
    "- For *this* sprint, attempt to get the beginning of a working program, i.e. command line interface\n",
    "  - Generates sql database\n",
    "  - Asks for tickers\n",
    "  - Get data for tickers from yf\n",
    "  - Populate database with stock data\n",
    "- *Next* sprint, we will make another module which creates the allocation."
   ]
  },
  {
   "cell_type": "markdown",
   "metadata": {},
   "source": [
    "Important:\n",
    "- Write down exactly what commands were run to create sql server\n",
    "  - These need to be in the readme so that the user can access the program\n",
    "  - Probably the user will have to create their own server; including step-by-step in hte readme will be good practice and allow the program to be universally usable\n",
    "  - Add functionality so that program asks for username, password, database name and sets corresponding variables in main.py"
   ]
  },
  {
   "cell_type": "markdown",
   "metadata": {},
   "source": [
    "### Course work"
   ]
  },
  {
   "cell_type": "markdown",
   "metadata": {},
   "source": [
    "#### Last week:"
   ]
  },
  {
   "cell_type": "markdown",
   "metadata": {},
   "source": [
    "- [ ] Complex sql queries with relational algebra"
   ]
  },
  {
   "cell_type": "markdown",
   "metadata": {},
   "source": [
    "#### This week:"
   ]
  },
  {
   "cell_type": "markdown",
   "metadata": {},
   "source": [
    "- [x] Sub-queries\n",
    "- [x] Using indexes\n",
    "- [ ] Basic security; managing access (integrate into CLI/db setup)\n",
    "- [ ] Understanding views"
   ]
  },
  {
   "cell_type": "markdown",
   "metadata": {},
   "source": [
    "### Work"
   ]
  },
  {
   "cell_type": "markdown",
   "metadata": {},
   "source": [
    "#### Andrew"
   ]
  },
  {
   "cell_type": "markdown",
   "metadata": {},
   "source": [
    "- [ ] Get fetch data.py to output correct file; populate 'stock' and 'history'"
   ]
  },
  {
   "cell_type": "markdown",
   "metadata": {},
   "source": [
    "#### Evan"
   ]
  },
  {
   "cell_type": "markdown",
   "metadata": {},
   "source": [
    "- [ ] Edit main file to produce desired behavior; populate 'session' and 'portfolio'\n",
    "- [ ] Catch-up notes: Complex sql, security\n",
    "- [ ] Ask about theoreticlal justification"
   ]
  },
  {
   "cell_type": "markdown",
   "metadata": {},
   "source": [
    "# Notes: Security"
   ]
  },
  {
   "cell_type": "markdown",
   "metadata": {},
   "source": [
    "- Should be setting up permissions immediately, 'user' defined as someone accessing DB through the CLI\n",
    "\n",
    "- Idea:\n",
    "  - Code which creates database requires some kind of keyword or user change in order to run db commands\n",
    "  - DB commands will NOT be run through command lineCode which creates database requires some kind of keyword or user change in order to run db commands\n",
    "  - Make DB initialization so that the user is given next to no privileges off the bat - must switch to a "
   ]
  }
 ],
 "metadata": {
  "language_info": {
   "name": "python"
  }
 },
 "nbformat": 4,
 "nbformat_minor": 2
}
