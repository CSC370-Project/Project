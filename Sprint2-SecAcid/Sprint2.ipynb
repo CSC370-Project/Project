{
 "cells": [
  {
   "cell_type": "markdown",
   "metadata": {},
   "source": [
    "# Sprint 2 - Basic Security, Acid transactions"
   ]
  },
  {
   "cell_type": "markdown",
   "metadata": {},
   "source": [
    "## TODO:"
   ]
  },
  {
   "cell_type": "markdown",
   "metadata": {},
   "source": [
    "### Begin CLI (low priority)"
   ]
  },
  {
   "cell_type": "markdown",
   "metadata": {},
   "source": [
    "\\+ NOTE: WORK ON THE UVIC CS SERVER"
   ]
  },
  {
   "cell_type": "markdown",
   "metadata": {
    "vscode": {
     "languageId": "plaintext"
    }
   },
   "source": [
    "- Difficult to do allocation at this time, since program is nonexistent\n",
    "- For *this* sprint, attempt to get the beginning of a working program, i.e. command line interface\n",
    "  - Generates sql database\n",
    "  - Asks for tickers\n",
    "  - Get data for tickers from yf\n",
    "  - Populate database with stock data\n",
    "- *Next* sprint, we will make another module which creates the allocation."
   ]
  },
  {
   "cell_type": "markdown",
   "metadata": {},
   "source": [
    "Important:\n",
    "- Write down exactly what commands were run to create sql server\n",
    "  - These need to be in the readme so that the user can access the program\n",
    "  - Probably the user will have to create their own server; including step-by-step in hte readme will be good practice and allow the program to be universally usable\n",
    "  - Add functionality so that program asks for username, password, database name and sets corresponding variables in main.py"
   ]
  },
  {
   "cell_type": "markdown",
   "metadata": {},
   "source": [
    "### Course work"
   ]
  },
  {
   "cell_type": "markdown",
   "metadata": {},
   "source": [
    "#### Last week:"
   ]
  },
  {
   "cell_type": "markdown",
   "metadata": {},
   "source": [
    "- [ ] Complex sql queries with relational algebra"
   ]
  },
  {
   "cell_type": "markdown",
   "metadata": {},
   "source": [
    "#### This week:"
   ]
  },
  {
   "cell_type": "markdown",
   "metadata": {},
   "source": [
    "- [ ] Sub-queries\n",
    "- [ ] Using indexes\n",
    "- [ ] Basic security; managing access\n",
    "- [ ] Understanding views"
   ]
  },
  {
   "cell_type": "markdown",
   "metadata": {},
   "source": [
    "### Work"
   ]
  },
  {
   "cell_type": "markdown",
   "metadata": {},
   "source": [
    "#### Andrew"
   ]
  },
  {
   "cell_type": "markdown",
   "metadata": {},
   "source": [
    "- [ ] Get fetch data.py to output correct file; populate 'stock' and 'history'"
   ]
  },
  {
   "cell_type": "markdown",
   "metadata": {},
   "source": [
    "#### Evan"
   ]
  },
  {
   "cell_type": "markdown",
   "metadata": {},
   "source": [
    "- [ ] Edit main file to produce desired behavior; populate 'session' and 'portfolio'"
   ]
  }
 ],
 "metadata": {
  "language_info": {
   "name": "python"
  }
 },
 "nbformat": 4,
 "nbformat_minor": 2
}
