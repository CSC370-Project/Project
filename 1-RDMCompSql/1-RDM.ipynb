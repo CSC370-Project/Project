{
 "cells": [
  {
   "cell_type": "markdown",
   "metadata": {},
   "source": [
    "# 1 - Relational Data Models"
   ]
  },
  {
   "cell_type": "markdown",
   "metadata": {},
   "source": [
    "TODO:\n",
    "- Finish notes up to lossless decomp\n",
    "- Finish notes on relational algebra, constrints (2.4,5 text)"
   ]
  },
  {
   "cell_type": "markdown",
   "metadata": {},
   "source": [
    "## Functional Dependencies and Keys"
   ]
  },
  {
   "cell_type": "markdown",
   "metadata": {},
   "source": [
    "### Relational data model"
   ]
  },
  {
   "cell_type": "markdown",
   "metadata": {},
   "source": [
    "- Attributes: Unordered; i.e. title, year, length, genre\n",
    "- Schema: Combination of name (i.e. Movies) and attributes\n",
    "- Tuple: Row of 2d table\n",
    "- Domain: Type of attribute "
   ]
  },
  {
   "cell_type": "markdown",
   "metadata": {},
   "source": [
    "### Data Anomalies (REVIEW)"
   ]
  },
  {
   "cell_type": "markdown",
   "metadata": {},
   "source": [
    "- Errors in data (i.e. inserting two students w same ID num)\n",
    "  - **Insertion anomalies:** New tuples could introduce data errors/violate db design, i.e. giving one (unique) id to two dif attributes\n",
    "  - **Update anomalies:** Changing info leading to consistency in data, i.e. if a name changes we might change only one instance of the name\n",
    "  - **Deletion anomalies:** If some info deleted we may lose all info (i.e. if one instance of 'bob' left is deleted, we lose name & v-num)\n",
    "  - **Redundancy:** Info unnecessarily repeated, i.e. Name/student num repeated for each class"
   ]
  },
  {
   "cell_type": "markdown",
   "metadata": {},
   "source": [
    "### Functional Dependencies"
   ]
  },
  {
   "cell_type": "markdown",
   "metadata": {},
   "source": [
    "Given\n",
    "- Schema $R(C_1, ..., C_k)$\n",
    "- Attributes $C=\\{C_1,...,C_k\\}$\n",
    "- $A = \\{A_1,...,A_n\\} \\subseteq C$ (subset of R's attributes), \n",
    "- $B = \\{B_1,...,B_n\\} \\subseteq C$.\n",
    "\n",
    "Then $A$ functionally determines $B$, $A \\rightarrow B$ iff. for every two possible tuples of $R$, if they have the same values for all attributes in $A$ then they must have the same values for all attributes in $B$."
   ]
  },
  {
   "cell_type": "markdown",
   "metadata": {},
   "source": [
    "\\+ Ex: 'Date joined' depends on 'Account ID' but not other way around; many accounts can be created in one day but one account can only be opened on one day."
   ]
  },
  {
   "cell_type": "markdown",
   "metadata": {},
   "source": [
    "#### **\\+ Logic rules for FD's**"
   ]
  },
  {
   "cell_type": "markdown",
   "metadata": {},
   "source": [
    "**Combination**"
   ]
  },
  {
   "cell_type": "markdown",
   "metadata": {},
   "source": [
    "Given two rules with a common antecedent, we can combine them by taking the union of\n",
    "their consequents"
   ]
  },
  {
   "cell_type": "markdown",
   "metadata": {},
   "source": [
    "\\+ Ex: Given\n",
    "- album $\\rightarrow$ label\n",
    "- album $\\rightarrow$ artist  \n",
    "\n",
    "    We combine to get   \n",
    "album $\\rightarrow$ label artist"
   ]
  },
  {
   "cell_type": "markdown",
   "metadata": {},
   "source": [
    "**Splitting**"
   ]
  },
  {
   "cell_type": "markdown",
   "metadata": {},
   "source": [
    "Reverse of combination"
   ]
  },
  {
   "cell_type": "markdown",
   "metadata": {},
   "source": [
    "**Transitivity**"
   ]
  },
  {
   "cell_type": "markdown",
   "metadata": {},
   "source": [
    "$A \\rightarrow B \\; \\& \\; B \\rightarrow C \\; \\Rightarrow \\; A \\rightarrow C$"
   ]
  },
  {
   "cell_type": "markdown",
   "metadata": {},
   "source": [
    "**Triviality**"
   ]
  },
  {
   "cell_type": "markdown",
   "metadata": {},
   "source": [
    "$B \\subseteq A \\; \\Rightarrow \\; A \\rightarrow B$"
   ]
  },
  {
   "cell_type": "markdown",
   "metadata": {},
   "source": [
    "\\+ Ex: writer song $\\rightarrow$ writer"
   ]
  },
  {
   "cell_type": "markdown",
   "metadata": {},
   "source": [
    "**Semi-triviality**"
   ]
  },
  {
   "cell_type": "markdown",
   "metadata": {},
   "source": [
    "$A \\rightarrow B \\; \\& \\; C = B \\cap A $ means we can drop C from B"
   ]
  },
  {
   "cell_type": "markdown",
   "metadata": {},
   "source": [
    "\\+ Ex: album song_name $\\rightarrow$ album run_length $\\Rightarrow$ album song_name $\\rightarrow$ run_length"
   ]
  },
  {
   "cell_type": "markdown",
   "metadata": {},
   "source": [
    "### Closure $X^+$"
   ]
  },
  {
   "cell_type": "markdown",
   "metadata": {},
   "source": [
    "The maximum set of attributes that we can functionally determine from a set X"
   ]
  },
  {
   "cell_type": "markdown",
   "metadata": {},
   "source": [
    "\\+ Ex:\n",
    "\n",
    "Given \n",
    "- $A \\rightarrow C$\n",
    "- $BC \\rightarrow D$\n",
    "- $C \\rightarrow B$\n",
    "\n",
    "What is the closure of $\\{A\\}$, i.e., what is $\\{A\\}^+$?\n",
    "1. Observe that $A \\rightarrow C$; so, $\\{A\\}^+ \\supseteq \\{A, C\\}$\n",
    "1. Observe that $C \\rightarrow B$; so, $\\{A\\}^+ \\supseteq \\{A, B, C\\}$\n",
    "1. Observe that $BC \\rightarrow D$; so, $\\{A\\}^+ \\supseteq \\{A, B, C, D\\}$\n",
    "1. At this point, we cannot exploit any more rules; so, we conclude that $\\{A\\}^+ = \\{A, B, C, D\\}$"
   ]
  },
  {
   "cell_type": "markdown",
   "metadata": {},
   "source": [
    "\\+ Note:\n",
    "- Given $BC \\rightarrow D$, $B^+$ is $\\{B\\}$\n",
    "- But given $C \\rightarrow D$, $AC^+$ is $\\{A,C,D\\}$"
   ]
  },
  {
   "cell_type": "markdown",
   "metadata": {
    "vscode": {
     "languageId": "plaintext"
    }
   },
   "source": [
    "### Projecting FD's "
   ]
  },
  {
   "cell_type": "markdown",
   "metadata": {},
   "source": [
    "Projecting functional dependencies (FDs) means determining the functional dependencies that hold within a specific subset of the attributes of a database relation. This is particularly useful when we are dealing with a decomposition of a relation into smaller relations and we need to understand how the functional dependencies are inherited by these smaller relations.\n",
    "\n",
    "#### Simple Explanation\n",
    "\n",
    "1. **Functional Dependency (FD)**: A functional dependency \\(X \\rightarrow Y\\) between two sets of attributes \\(X\\) and \\(Y\\) in a relation means that if two tuples (rows) have the same values for the attributes in \\(X\\), they must also have the same values for the attributes in \\(Y\\).\n",
    "\n",
    "2. **Projection of Attributes**: When we project a relation on a subset of its attributes, we create a new relation containing only those attributes.\n",
    "\n",
    "3. **Projecting Functional Dependencies**:\n",
    "   - **Given**: A set of FDs for a relation and a subset of attributes from that relation.\n",
    "   - **Goal**: Find the FDs that apply to this subset of attributes.\n",
    "   - **Process**:\n",
    "     - Identify the attributes that are part of the subset.\n",
    "     - Determine which FDs hold when considering only the subset of attributes.\n",
    "\n",
    "### Example\n",
    "\n",
    "Consider a relation \\( R(A, B, C, D) \\) with the following FDs:\n",
    "1. \\( A \\rightarrow B \\)\n",
    "2. \\( B \\rightarrow C \\)\n",
    "3. \\( A \\rightarrow D \\)\n",
    "\n",
    "If we want to project these FDs onto the subset \\( \\{A, B\\} \\):\n",
    "\n",
    "1. **Identify FDs that involve only attributes \\( A \\) and \\( B \\)**:\n",
    "   - \\( A \\rightarrow B \\) involves \\( A \\) and \\( B \\).\n",
    "   - \\( B \\rightarrow C \\) involves \\( B \\) but not \\( C \\), so it's not included.\n",
    "   - \\( A \\rightarrow D \\) involves \\( A \\) but not \\( D \\), so it's not included.\n",
    "\n",
    "2. **Result**:\n",
    "   - The only FD that holds in the projection onto \\( \\{A, B\\} \\) is \\( A \\rightarrow B \\).\n",
    "\n",
    "### Steps to Project FDs\n",
    "\n",
    "1. **Determine Attributes**: Select the subset of attributes you are interested in.\n",
    "2. **Filter FDs**: From the original set of FDs, select those that involve only attributes in the subset.\n",
    "3. **Derive New FDs**: Use closure operations to infer additional FDs that might hold in the projection.\n",
    "\n",
    "### Why Project FDs?\n",
    "\n",
    "Projecting FDs is essential for:\n",
    "- **Normalization**: Ensuring that decomposed relations maintain the properties of the original relation.\n",
    "- **Database Design**: Understanding the dependencies within specific parts of a relation, which helps in designing efficient and normalized databases.\n",
    "\n",
    "By projecting functional dependencies, we can ensure that the integrity and constraints of the original relation are preserved in the smaller relations derived from it."
   ]
  },
  {
   "cell_type": "markdown",
   "metadata": {},
   "source": [
    "### Keys & Superkeys"
   ]
  },
  {
   "cell_type": "markdown",
   "metadata": {},
   "source": [
    "A key $K$ is a subset of a set of attributes $A$ where no two tuples have the same values.\n",
    "\n",
    "\\+ Ex: Movies has key `title`, `year`; Title may be the same, movie may be the same, but no two movies released in hte same year will  have same title"
   ]
  },
  {
   "cell_type": "markdown",
   "metadata": {},
   "source": [
    "![Database Schema Ex](2024-05-31-20:29:46.jpg)"
   ]
  },
  {
   "cell_type": "markdown",
   "metadata": {},
   "source": [
    "**Superkeys**"
   ]
  },
  {
   "cell_type": "markdown",
   "metadata": {},
   "source": [
    "A is a superkey iff. $\\{A\\}^+=C$; every attribute of $R$ can be functionally determined in $A$\n",
    "\n",
    "Moreover, $A$ is akey iff.\n",
    "1. A is a superkey\n",
    "2. There's no set $A' \\subset A$, since $A'$ is a superkey\n",
    "\n",
    "In other words: $A$ is a minimal set of attributes from which the value of every tuple of $R$ can be functionally determined."
   ]
  },
  {
   "cell_type": "markdown",
   "metadata": {},
   "source": [
    "![Keys](2024-05-31-20:45:45.jpg)"
   ]
  },
  {
   "cell_type": "markdown",
   "metadata": {},
   "source": [
    "See lec. notes for examples"
   ]
  },
  {
   "cell_type": "markdown",
   "metadata": {},
   "source": [
    "## BCNF (Boyce-Codd Normal Form) Decomposition"
   ]
  },
  {
   "cell_type": "markdown",
   "metadata": {},
   "source": [
    "Allows us to avoid errors"
   ]
  },
  {
   "cell_type": "markdown",
   "metadata": {},
   "source": [
    "### BCNF"
   ]
  },
  {
   "cell_type": "markdown",
   "metadata": {},
   "source": [
    "A relation $R$ is in BCNF iff.\n",
    "\n",
    "For every non-trivial functional dependency on $R$, $\\{A_1,...,A_n\\} \\rightarrow \\{B_1,...,B_m\\}$, $A_i$ is a superkey of $R$ i.e. $A^+=C$.\n",
    "\n",
    "IOW, The antecedent determines all other attributes for every functional dependency of every relation."
   ]
  },
  {
   "cell_type": "markdown",
   "metadata": {},
   "source": [
    "In the folloiwing example, after is in BCNF"
   ]
  },
  {
   "cell_type": "markdown",
   "metadata": {},
   "source": [
    "![BeforeAfter](2024-05-31-21:14:50.jpg)"
   ]
  },
  {
   "cell_type": "markdown",
   "metadata": {},
   "source": [
    "### Decomposition"
   ]
  },
  {
   "cell_type": "markdown",
   "metadata": {},
   "source": [
    "Purpose: To get rid of anomalies"
   ]
  },
  {
   "cell_type": "markdown",
   "metadata": {},
   "source": [
    "Splits relation $R$ with attributes $A=\\{A_1,...,A_n\\}$ into two relations:\n",
    "1. $S$ w attributes $B=\\{B_1,...,B_m\\}$\n",
    "2. $T$ w attributes $C=\\{C_1,...,C_m\\}$\n",
    "\n",
    "Such that \n",
    "- $A = B \\cup C$\n",
    "- $S = \\pi_{B_1,...,B_m}(R)$\n",
    "- $T = \\pi_{C_1,...,C_m}(R)$"
   ]
  },
  {
   "cell_type": "markdown",
   "metadata": {},
   "source": [
    "**Algorithm**"
   ]
  },
  {
   "cell_type": "markdown",
   "metadata": {},
   "source": [
    "```\n",
    "BCNF_Decomp(R0,F0)\n",
    "Input: Relation R0 w attribute C0 and functional dependencies F0\n",
    "Output: A decomposition of R0 in which all relations are in BCNF\n",
    "1. If R0 in BCNF, return R0\n",
    "2. Select BCNF violation (FD for which antecedent is not a superkey) X->Y\n",
    "3. Compute closure X^+\n",
    "4. Let R1:=X^+\n",
    "5. Let R2:=(C\\X^+) U X\n",
    "6. Project F0 to get functional dependencies for R1 and R2 denotd F1 and F2\n",
    "7. Return BCNF_Decomp(R1,F1) U BCNF_Decomp(R2,F2)\n",
    "```"
   ]
  },
  {
   "cell_type": "markdown",
   "metadata": {},
   "source": [
    "Ex:"
   ]
  },
  {
   "cell_type": "markdown",
   "metadata": {},
   "source": [
    "![DecompEx](2024-05-31-21:29:15.jpg)"
   ]
  },
  {
   "cell_type": "markdown",
   "metadata": {},
   "source": [
    "SO: Purpose of BCNF is to decompose into a form which is guaranteed NOT to have anomalies!"
   ]
  },
  {
   "cell_type": "markdown",
   "metadata": {},
   "source": [
    "### Lossless joins"
   ]
  },
  {
   "cell_type": "markdown",
   "metadata": {},
   "source": [
    "After decomposing we want to ensure that we can get our original data back by joining; If we can, then the decomposition/join is considered 'lossless'. In order to determine whether or not we can decompose lossless, we use chase test"
   ]
  },
  {
   "cell_type": "markdown",
   "metadata": {},
   "source": [
    "## Reltional Algebra & Referential Integrity"
   ]
  },
  {
   "cell_type": "markdown",
   "metadata": {},
   "source": [
    "### Foreign keys"
   ]
  },
  {
   "cell_type": "markdown",
   "metadata": {},
   "source": [
    "A foreign key is a critical concept in relational database management systems (RDBMS). It is a field (or collection of fields) in one table that uniquely identifies a row of another table or the same table. The purpose of foreign keys is to maintain referential integrity between tables, ensuring that relationships between tables remain consistent.\n",
    "Key Concepts\n",
    "\n",
    "- Primary Key:  \n",
    "  - A primary key is a field (or combination of fields) that uniquely identifies each record in a table.\n",
    "  - Each table can have only one primary key.\n",
    "    The values in the primary key column(s) must be unique and cannot be null.\n",
    "\n",
    "- Foreign Key:  \n",
    "  - A foreign key is a column or a set of columns in one table that references the primary key columns of another table.\n",
    "  - The table containing the foreign key is called the child table, and the table containing the primary key is called the parent table.\n",
    "  - Foreign keys ensure that the values in the foreign key column(s) match values in the referenced primary key column(s), enforcing referential integrity."
   ]
  }
 ],
 "metadata": {
  "language_info": {
   "name": "python"
  }
 },
 "nbformat": 4,
 "nbformat_minor": 2
}
