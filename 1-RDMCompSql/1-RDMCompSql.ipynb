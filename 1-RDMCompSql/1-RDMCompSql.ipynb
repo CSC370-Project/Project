{
 "cells": [
  {
   "cell_type": "markdown",
   "metadata": {},
   "source": [
    "# 1 - Relational Data Models"
   ]
  },
  {
   "cell_type": "markdown",
   "metadata": {},
   "source": [
    "## ToDo"
   ]
  },
  {
   "cell_type": "markdown",
   "metadata": {},
   "source": [
    "1. Breakdown into BCNF & display lossless retrieval\n",
    "2. Do op's covered in complex_queries to reformatted database"
   ]
  },
  {
   "cell_type": "markdown",
   "metadata": {},
   "source": [
    "Things to look into (potenitally relevant for sprint)\n",
    "- Closure algo (req'd): Discover FD's ***\n",
    "- Projection algo: 'Projecting' FD's onto subsets of R (used for decomp?)\n",
    "- Decomp algo: Eliminates anomalies/risk of errors when working w db (req'd)\n",
    "- Chase test: Test to ensure lossless decomp.\n",
    "\n",
    "Should do this for all tables in db"
   ]
  },
  {
   "cell_type": "markdown",
   "metadata": {},
   "source": [
    "### 1. BCNF"
   ]
  },
  {
   "cell_type": "markdown",
   "metadata": {},
   "source": [
    "- Functional dependencies\n",
    "- Closure\n",
    "- Projection of functional dependences\n",
    "- Keys, superkeys\n",
    "- BCNF\n",
    "- Lossless joins\n",
    "- Relational algebra; express constraints in terms of relational algebra"
   ]
  },
  {
   "cell_type": "markdown",
   "metadata": {},
   "source": [
    "### Functional Dependencies"
   ]
  },
  {
   "cell_type": "markdown",
   "metadata": {},
   "source": [
    "#### For Main Tables:\n",
    "- `SessionID` $\\rightarrow$ `SessionID`\n",
    "- `PortfolioID` $\\rightarrow$ `PortfolioID`, `TotalAmt`, `Risk`\n",
    "- `AllocID` $\\rightarrow$ `AllocID`, `Ticker`, `Amount`\n",
    "- `StockID` $\\rightarrow$ `StockID`, `Ticker`, `Sector`, `Price`, `SD`, `ERet`\n",
    "- `HistoryID` $\\rightarrow$ `HistoryID`, `Ticker`, `Date`, `Price`\n",
    "- (`PortfolioID`, `StockID`) $\\rightarrow$ `PortfolioID`, `StockID`\n",
    "- (`AllocID`, `StockID`) $\\rightarrow$ `AllocID`, `StockID`\n",
    "- (`StockID`, `HistoryID`) $\\rightarrow$ `StockID`, `HistoryID`\n",
    "- (`SessionID`, `PortfolioID`) $\\rightarrow$ `SessionID`, `PortfolioID`\n",
    "- (`PortfolioID`, `AllocID`) $\\rightarrow$ `PortfolioID`, `AllocID`\n",
    "\n",
    "This concise summary lists all functional dependencies derived from your table definitions and their respective primary keys."
   ]
  },
  {
   "cell_type": "markdown",
   "metadata": {},
   "source": [
    "### 2. Complex queries"
   ]
  },
  {
   "cell_type": "markdown",
   "metadata": {},
   "source": [
    "- Go over selection of examples from class; include relational algebra which describes each operation"
   ]
  },
  {
   "cell_type": "code",
   "execution_count": null,
   "metadata": {
    "vscode": {
     "languageId": "plaintext"
    }
   },
   "outputs": [],
   "source": [
    "import yfinance as yf\n",
    "\n",
    "# Function to fetch stock data\n",
    "def fetch_stock_data(ticker, stock_id):\n",
    "    try:\n",
    "        # Create a Ticker object for the specified ticker\n",
    "        stock = yf.Ticker(ticker)\n",
    "        \n",
    "        # Fetch stock info with safe default values\n",
    "        stock_info = stock.info\n",
    "        symbol = stock_info.get('symbol', ticker)  # Default to the input ticker if 'symbol' is not available\n",
    "        sector = stock_info.get('sector', 'Unknown')  # Default to 'Unknown' if 'sector' is not available\n",
    "        price = stock_info.get('regularMarketPreviousClose', 0.0)  # Default to 0.0 if 'regularMarketPreviousClose' is not available\n",
    "        sd = stock_info.get('beta', 0.0)  # Default to 0.0 if 'beta' is not available\n",
    "        eret = stock_info.get('forwardEps', 0.0)  # Default to 0.0 if 'forwardEps' is not available\n",
    "        \n",
    "        return stock_id, symbol, sector, price, sd, eret\n",
    "    except Exception as e:\n",
    "        print(f\"Error fetching data for {ticker}: {e}\")\n",
    "        return stock_id, None, None, None, None, None\n",
    "\n",
    "# Prompt the user for stock ticker symbols\n",
    "tickers = input(\"Enter the stock ticker symbols (separated by commas): \").split(',')\n",
    "\n",
    "# Initialize stock_id counter\n",
    "stock_id = 1\n",
    "\n",
    "# List to hold the fetched data\n",
    "stock_data_list = []\n",
    "\n",
    "# Fetch and store stock data for each ticker symbol\n",
    "for ticker in tickers:\n",
    "    ticker = ticker.strip()  # Remove any leading/trailing whitespace\n",
    "    stock_data = fetch_stock_data(ticker, stock_id)\n",
    "    if stock_data[1]:  # Check if symbol is not None\n",
    "        stock_data_list.append(stock_data)\n",
    "    stock_id += 1\n",
    "\n",
    "# Prepare the SQL insert statements\n",
    "insert_statements = []\n",
    "for data in stock_data_list:\n",
    "    stock_id, symbol, sector, price, sd, eret = data\n",
    "    insert_statement = f\"INSERT INTO stock (StockID, Ticker, Sector, Price, SD, ERet) VALUES ({stock_id}, '{symbol}', '{sector}', {price}, {sd}, {eret});\"\n",
    "    insert_statements.append(insert_statement)\n",
    "\n",
    "# Combine all insert statements into a single string\n",
    "sql_insert_statements = \"\\n\".join(insert_statements)\n",
    "\n",
    "# Save the SQL insert statements to a file\n",
    "with open(\"insert_statements.sql\", \"w\") as file:\n",
    "    file.write(sql_insert_statements)\n",
    "\n",
    "# Display the SQL insert statements\n",
    "print(sql_insert_statements)\n"
   ]
  }
 ],
 "metadata": {
  "language_info": {
   "name": "python"
  }
 },
 "nbformat": 4,
 "nbformat_minor": 2
}
