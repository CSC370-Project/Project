{
 "cells": [
  {
   "cell_type": "markdown",
   "metadata": {},
   "source": [
    "# 1 - Relational Data Models"
   ]
  },
  {
   "cell_type": "markdown",
   "metadata": {},
   "source": [
    "## ToDo"
   ]
  },
  {
   "cell_type": "markdown",
   "metadata": {},
   "source": [
    "1. Breakdown into BCNF & display lossless retrieval\n",
    "2. Do op's covered in complex_queries to reformatted database"
   ]
  },
  {
   "cell_type": "markdown",
   "metadata": {},
   "source": [
    "Things to look into (potenitally relevant for sprint)\n",
    "- Closure algo (req'd): Discover FD's ***\n",
    "- Projection algo: 'Projecting' FD's onto subsets of R (used for decomp?)\n",
    "- Decomp algo: Eliminates anomalies/risk of errors when working w db (req'd)\n",
    "- Chase test: Test to ensure lossless decomp.\n",
    "\n",
    "Should do this for all tables in db"
   ]
  }
 ],
 "metadata": {
  "language_info": {
   "name": "python"
  }
 },
 "nbformat": 4,
 "nbformat_minor": 2
}
