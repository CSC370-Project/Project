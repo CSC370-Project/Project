{
 "cells": [
  {
   "cell_type": "markdown",
   "metadata": {},
   "source": [
    "# 1 - Relational Data Models"
   ]
  },
  {
   "cell_type": "markdown",
   "metadata": {},
   "source": [
    "## ToDo"
   ]
  },
  {
   "cell_type": "markdown",
   "metadata": {},
   "source": [
    "1. Breakdown into BCNF & display lossless retrieval\n",
    "2. Do op's covered in complex_queries to reformatted database"
   ]
  },
  {
   "cell_type": "markdown",
   "metadata": {},
   "source": [
    "Things to look into (potenitally relevant for sprint)\n",
    "- Closure algo (req'd): Discover FD's ***\n",
    "- Projection algo: 'Projecting' FD's onto subsets of R (used for decomp?)\n",
    "- Decomp algo: Eliminates anomalies/risk of errors when working w db (req'd)\n",
    "- Chase test: Test to ensure lossless decomp.\n",
    "\n",
    "Should do this for all tables in db"
   ]
  },
  {
   "cell_type": "markdown",
   "metadata": {},
   "source": [
    "### 1. BCNF"
   ]
  },
  {
   "cell_type": "markdown",
   "metadata": {},
   "source": [
    "- [ ] Functional dependencies\n",
    "- [ ] Closure\n",
    "- [ ] Projection of functional dependences\n",
    "- [ ] Keys, superkeys\n",
    "- [ ] BCNF\n",
    "- [ ] Lossless joins\n",
    "- [ ] Relational algebra; express constraints in terms of relational algebra"
   ]
  },
  {
   "cell_type": "markdown",
   "metadata": {},
   "source": [
    "### Functional Dependencies"
   ]
  },
  {
   "cell_type": "markdown",
   "metadata": {},
   "source": [
    "#### For Main Tables:\n",
    "- `SessionID` $\\rightarrow$ `SessionID`\n",
    "- `PortfolioID` $\\rightarrow$ `PortfolioID`, `TotalAmt`, `Risk`\n",
    "- `AllocID` $\\rightarrow$ `AllocID`, `Ticker`, `Amount`\n",
    "- `StockID` $\\rightarrow$ `StockID`, `Ticker`, `Sector`, `Price`, `SD`, `ERet`\n",
    "- `HistoryID` $\\rightarrow$ `HistoryID`, `Ticker`, `Date`, `Price`\n",
    "- (`PortfolioID`, `StockID`) $\\rightarrow$ `PortfolioID`, `StockID`\n",
    "- (`AllocID`, `StockID`) $\\rightarrow$ `AllocID`, `StockID`\n",
    "- (`StockID`, `HistoryID`) $\\rightarrow$ `StockID`, `HistoryID`\n",
    "- (`SessionID`, `PortfolioID`) $\\rightarrow$ `SessionID`, `PortfolioID`\n",
    "- (`PortfolioID`, `AllocID`) $\\rightarrow$ `PortfolioID`, `AllocID`\n",
    "\n",
    "This concise summary lists all functional dependencies derived from your table definitions and their respective primary keys."
   ]
  },
  {
   "cell_type": "markdown",
   "metadata": {},
   "source": [
    "### 2. Complex queries"
   ]
  },
  {
   "cell_type": "markdown",
   "metadata": {},
   "source": [
    "- Go over selection of examples from class; include relational algebra which describes each operation"
   ]
  }
 ],
 "metadata": {
  "language_info": {
   "name": "python"
  }
 },
 "nbformat": 4,
 "nbformat_minor": 2
}
