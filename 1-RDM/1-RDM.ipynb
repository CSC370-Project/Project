{
 "cells": [
  {
   "cell_type": "markdown",
   "metadata": {},
   "source": [
    "# 1 - Relational Data Models"
   ]
  },
  {
   "cell_type": "markdown",
   "metadata": {},
   "source": [
    "## ToDo"
   ]
  },
  {
   "cell_type": "markdown",
   "metadata": {},
   "source": [
    "- [ ] Create non-root user with password \"1234\" for presentation\n",
    "- [ ] ID functional dependencies in table\n",
    "  - [ ] Ask TA for clarification regarding FD's in our table: Stocks *never* repeat\n",
    "- [ ] Create tables for complex sql theories\n",
    "- [ ] Figure out script/tool to pull from yfinance directly into SQL"
   ]
  },
  {
   "cell_type": "markdown",
   "metadata": {},
   "source": [
    "## Functional Dependencies and Keys"
   ]
  },
  {
   "cell_type": "markdown",
   "metadata": {},
   "source": [
    "### Relational data model"
   ]
  },
  {
   "cell_type": "markdown",
   "metadata": {},
   "source": [
    "- Attributes: Unordered; i.e. title, year, length, genre\n",
    "- Schema: Combination of name (i.e. Movies) and attributes\n",
    "- Tuple: Row of 2d table\n",
    "- Domain: Type of attribute "
   ]
  },
  {
   "cell_type": "markdown",
   "metadata": {},
   "source": [
    "### Data Anomalies"
   ]
  },
  {
   "cell_type": "markdown",
   "metadata": {},
   "source": [
    "- Errors in data (i.e. inserting two students w same ID num)\n",
    "  - Insertion anomalies\n",
    "  - Update anomalies\n",
    "  - deletion anomalies"
   ]
  },
  {
   "cell_type": "markdown",
   "metadata": {},
   "source": [
    "### Functional Dependencies"
   ]
  },
  {
   "cell_type": "markdown",
   "metadata": {},
   "source": [
    "- One attribute acts as a 'key' for others\n",
    "- Allows for decomposition into more specific tables, see example pg.21 of BCNF slides"
   ]
  },
  {
   "cell_type": "markdown",
   "metadata": {},
   "source": [
    "## BCNF (Boyce-Codd Normal Form)"
   ]
  },
  {
   "cell_type": "markdown",
   "metadata": {},
   "source": []
  }
 ],
 "metadata": {
  "language_info": {
   "name": "python"
  }
 },
 "nbformat": 4,
 "nbformat_minor": 2
}
