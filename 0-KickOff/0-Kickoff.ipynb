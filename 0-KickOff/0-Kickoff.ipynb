{
 "cells": [
  {
   "cell_type": "markdown",
   "metadata": {},
   "source": [
    "# 0 - Project kick off"
   ]
  },
  {
   "cell_type": "markdown",
   "metadata": {},
   "source": [
    "### **Goals:**"
   ]
  },
  {
   "cell_type": "markdown",
   "metadata": {},
   "source": [
    "1. Show that you can define application and business requirements (Data Architecture competency)\n",
    "  - Clear list of initial requirements\n",
    "2. Show how you have identified an interesting project that has the ability to cover many modules of the course. You have in mind a number of ways to increase complexity to meet more challenging learning objectives and you have in mind some way of obtaining or generating useful data."
   ]
  },
  {
   "cell_type": "markdown",
   "metadata": {},
   "source": [
    "## 1: Define application & business requirements"
   ]
  },
  {
   "cell_type": "markdown",
   "metadata": {},
   "source": [
    "### **Idea: Stock data & portfolio mgmt**"
   ]
  },
  {
   "cell_type": "markdown",
   "metadata": {},
   "source": [
    "A basic stock and portfolio tracking software typically requires certain essential information about stocks and portfolios to provide meaningful functionality to users. Here's a rundown of the key data points and features:\n",
    "\n",
    "1. **Stock Information**:\n",
    "   - **Ticker Symbol**: Unique identifier for the stock (e.g., AAPL for Apple Inc.).\n",
    "   - **Company Name**: Name of the company corresponding to the stock.\n",
    "   - **Current Price**: Real-time or delayed price of the stock.\n",
    "     - 'Refresh' function to update stock price (etc)\n",
    "   - **Price Change**: Change in price since the previous trading day.\n",
    "   - **Percentage Change**: Percentage change in price since the previous trading day.\n",
    "   - **Volume**: Number of shares traded during a given period.\n",
    "   - **Market Capitalization**: Total market value of the company's outstanding shares.\n",
    "   - **Dividend Yield**: Dividend income as a percentage of the stock price.\n",
    "   - **Earnings Per Share (EPS)**: Company's profit divided by the number of outstanding shares.\n",
    "   - **Price-to-Earnings Ratio (P/E)**: Ratio of the stock's price to its earnings per share.\n",
    "   - **52-Week High/Low**: Highest and lowest prices the stock has reached in the past year.\n",
    "\n",
    "2. **Portfolio Information**:\n",
    "   - **Portfolio Name**: Identifier for the portfolio.\n",
    "   - **Stock Holdings**: List of stocks held within the portfolio.\n",
    "   - **Quantity**: Number of shares held for each stock.\n",
    "   - **Purchase Price**: Price at which the shares were purchased.\n",
    "   - **Cost Basis**: Total amount invested in each stock.\n",
    "   - **Market Value**: Current value of the shares based on the latest prices.\n",
    "   - **Gain/Loss**: Difference between the current market value and the cost basis.\n",
    "   - **Percentage Gain/Loss**: Percentage change in value since purchase.\n",
    "   - **Portfolio Total**: Total value of the portfolio (sum of market values of all holdings).\n",
    "   - **Allocation Percentage**: Percentage of the portfolio allocated to each stock.\n",
    "\n",
    "3. **Transaction History**:\n",
    "   - **Buy/Sell Transactions**: Record of buying and selling activities for each stock.\n",
    "   - **Date**: Date of the transaction.\n",
    "   - **Quantity**: Number of shares bought or sold.\n",
    "   - **Price**: Price per share at the time of transaction.\n",
    "   - **Total Cost/Proceeds**: Total amount spent or received in the transaction.\n",
    "   - **Commission**: Any brokerage fees or transaction costs associated with the trade.\n",
    "\n",
    "4. **Charts and Performance Metrics**:\n",
    "   - **Historical Price Charts**: Graphical representation of stock price movements over time.\n",
    "   - **Portfolio Performance Metrics**: Metrics such as overall return, annualized return, volatility, Sharpe ratio, etc.\n",
    "   - **Comparison Tools**: Ability to compare portfolio performance against benchmark indices or other portfolios.\n",
    "\n",
    "5. **Alerts and Notifications**:\n",
    "   - **Price Alerts**: Notifications when a stock reaches a certain price threshold.\n",
    "   - **News Alerts**: Alerts for important news or events related to stocks in the portfolio.\n",
    "   - **Portfolio Rebalancing Alerts**: Notifications when portfolio allocations deviate from target percentages.\n",
    "\n",
    "6. **User Authentication and Security**:\n",
    "   - **User Accounts**: Ability for users to create accounts and log in securely.\n",
    "   - **Data Encryption**: Encryption of sensitive user data to protect privacy and security.\n",
    "   - **Two-Factor Authentication**: Optional additional layer of security for user accounts.\n",
    "\n",
    "7. **Integration and Data Sources**:\n",
    "   - **Real-time Data Feeds**: Integration with reliable data sources for up-to-date stock prices and information.\n",
    "   - **Historical Data**: Access to historical stock prices and other relevant historical data.\n",
    "   - **API Integration**: Ability to integrate with financial APIs for additional data and functionality.\n",
    "\n",
    "By including these elements, a basic stock and portfolio tracking software can provide users with the necessary tools to monitor their investments, track performance, and make informed decisions."
   ]
  },
  {
   "cell_type": "markdown",
   "metadata": {},
   "source": [
    "```mermaid\n",
    "graph TD;\n",
    "    M[Movies]\n",
    "    U[User]\n",
    "    AS(Admin Status)\n",
    "    UID(\"<u>User ID</u>\")\n",
    "    MID(\"<u>Movie ID</u>\")\n",
    "    C(Num Ratings)\n",
    "    R[Rating]\n",
    "    C(Count)\n",
    "    V(Value)\n",
    "\n",
    "    M-->MID\n",
    "    U-->UID\n",
    "    U-->AS\n",
    "    R-->C\n",
    "    R-->V\n",
    "```"
   ]
  },
  {
   "cell_type": "markdown",
   "metadata": {},
   "source": [
    "## 2: Link to modules & come up with some ways to (1) increae complexity, (2) generate/obtain data"
   ]
  }
 ],
 "metadata": {
  "language_info": {
   "name": "python"
  }
 },
 "nbformat": 4,
 "nbformat_minor": 2
}
