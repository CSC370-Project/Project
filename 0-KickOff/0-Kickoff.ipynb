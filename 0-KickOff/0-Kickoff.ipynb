{
 "cells": [
  {
   "cell_type": "markdown",
   "metadata": {},
   "source": [
    "# 0 - Project kick off"
   ]
  },
  {
   "cell_type": "markdown",
   "metadata": {},
   "source": [
    "### **Goals:**"
   ]
  },
  {
   "cell_type": "markdown",
   "metadata": {},
   "source": [
    "1. Show that you can define application and business requirements (Data Architecture competency)\n",
    "  - Clear list of initial requirements\n",
    "2. Show how you have identified an interesting project that has the ability to cover many modules of the course. You have in mind a number of ways to increase complexity to meet more challenging learning objectives and you have in mind some way of obtaining or generating useful data."
   ]
  },
  {
   "cell_type": "markdown",
   "metadata": {},
   "source": [
    "## 1: Define application & business requirements"
   ]
  },
  {
   "cell_type": "markdown",
   "metadata": {},
   "source": [
    "### **Idea: Stock data & portfolio mgmt**"
   ]
  },
  {
   "cell_type": "markdown",
   "metadata": {},
   "source": [
    "Portfolio optimization tool\n",
    "- A new investor doesn't know how much to invest for a set of companies, but has researched companies they like\n",
    "- the tool outputs how much of each company this person should buy depending on their risk tolerance\n",
    "- outputs expected return, some other things as well that we might need "
   ]
  },
  {
   "cell_type": "markdown",
   "metadata": {},
   "source": [
    "```mermaid\n",
    "graph TD;\n",
    "    M[Movies]\n",
    "    U[User]\n",
    "    AS(Admin Status)\n",
    "    UID(\"<u>User ID</u>\")\n",
    "    MID(\"<u>Movie ID</u>\")\n",
    "    C(Num Ratings)\n",
    "    R[Rating]\n",
    "    C(Count)\n",
    "    V(Value)\n",
    "\n",
    "    M-->MID\n",
    "    U-->UID\n",
    "    U-->AS\n",
    "    R-->C\n",
    "    R-->V\n",
    "```"
   ]
  },
  {
   "cell_type": "markdown",
   "metadata": {},
   "source": [
    "## 2: Link to modules & come up with some ways to (1) increae complexity, (2) generate/obtain data"
   ]
  }
 ],
 "metadata": {
  "language_info": {
   "name": "python"
  }
 },
 "nbformat": 4,
 "nbformat_minor": 2
}
