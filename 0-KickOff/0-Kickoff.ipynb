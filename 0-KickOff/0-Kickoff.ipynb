{
 "cells": [
  {
   "cell_type": "markdown",
   "metadata": {},
   "source": [
    "# 0 - Project kick off"
   ]
  },
  {
   "cell_type": "markdown",
   "metadata": {},
   "source": [
    "### **Goals:**"
   ]
  },
  {
   "cell_type": "markdown",
   "metadata": {},
   "source": [
    "1. Show that you can define application and business requirements (Data Architecture competency)\n",
    "  - Clear list of initial requirements\n",
    "2. Show how you have identified an interesting project that has the ability to cover many modules of the course. You have in mind a number of ways to increase complexity to meet more challenging learning objectives and you have in mind some way of obtaining or generating useful data."
   ]
  },
  {
   "cell_type": "markdown",
   "metadata": {},
   "source": [
    "## 1: Define application & business requirements"
   ]
  },
  {
   "cell_type": "markdown",
   "metadata": {},
   "source": [
    "### **Idea: Stock data & portfolio mgmt**"
   ]
  },
  {
   "cell_type": "markdown",
   "metadata": {},
   "source": [
    "Portfolio optimization tool\n",
    "- A new investor doesn't know how much to invest for a set of companies, but has researched companies they like\n",
    "- the tool outputs how much of each company this person should buy depending on their risk tolerance\n",
    "- outputs expected return, some other things as well that we might need "
   ]
  },
  {
   "cell_type": "markdown",
   "metadata": {},
   "source": [
    "GPT Output\n",
    "To implement Modern Portfolio Theory (MPT) in a program, several key aspects need to be considered, including data acquisition, mathematical modeling, optimization algorithms, and user interface elements. Here’s a detailed breakdown of the necessary components:\n",
    "\n",
    "### 1. Data Acquisition\n",
    "- **Historical Price Data**: Collect historical price data for the assets in the portfolio. This data is typically sourced from financial data providers such as Yahoo Finance, Alpha Vantage, or Quandl.\n",
    "- **Risk-free Rate**: Obtain the current risk-free rate, often represented by government bond yields (e.g., 10-year Treasury bond rate).\n",
    "- **Market Data**: For some advanced models, you might also need market indices data for benchmarking.\n",
    "\n",
    "### 2. Mathematical Modeling\n",
    "- **Expected Returns**: Calculate the expected returns for each asset based on historical data. This can be done using methods such as the arithmetic mean or geometric mean of historical returns.\n",
    "- **Covariance Matrix**: Compute the covariance matrix of asset returns to understand how the assets' returns move relative to each other.\n",
    "- **Portfolio Returns and Variance**: Develop formulas to calculate the expected return and variance of a portfolio based on the weights of the assets.\n",
    "\n",
    "### 3. Optimization Algorithms\n",
    "- **Efficient Frontier**: Implement algorithms to generate the efficient frontier, which is the set of optimal portfolios offering the highest expected return for a defined level of risk.\n",
    "- **Optimization Techniques**: Use optimization techniques such as:\n",
    "  - **Quadratic Programming**: Commonly used for mean-variance optimization to find the minimum variance portfolio.\n",
    "  - **Linear Programming**: For certain types of constraints and objective functions.\n",
    "  - **Heuristic Methods**: For more complex or non-convex optimization problems.\n",
    "\n",
    "### 4. Constraints Handling\n",
    "- **Budget Constraint**: Ensure that the sum of the portfolio weights equals 1.\n",
    "- **Non-Negativity**: Often, portfolios are constrained to no short-selling, meaning weights must be non-negative.\n",
    "- **Other Constraints**: Allow for additional constraints such as maximum or minimum weights for certain assets, sector constraints, etc.\n",
    "\n",
    "### 5. Risk Measures\n",
    "- **Standard Deviation**: Use standard deviation as a measure of portfolio risk.\n",
    "- **Other Measures**: Consider other risk measures like Value at Risk (VaR) or Conditional Value at Risk (CVaR) for more sophisticated risk assessments.\n",
    "\n",
    "### 6. User Interface\n",
    "- **Input Interface**: Provide an interface for users to input their preferences, such as the list of assets, risk tolerance, investment horizon, etc.\n",
    "- **Output Interface**: Display the optimized portfolio, including asset weights, expected return, risk (standard deviation), and other relevant metrics.\n",
    "- **Visualization**: Use charts and graphs to visualize the efficient frontier, portfolio allocation, and risk-return profiles.\n",
    "\n",
    "### 7. Programming Languages and Libraries\n",
    "- **Programming Languages**: Common choices include Python, R, MATLAB, and Excel/VBA.\n",
    "- **Libraries**:\n",
    "  - **Python**: `numpy` for numerical calculations, `pandas` for data manipulation, `scipy` for optimization, `matplotlib` and `seaborn` for visualization, `cvxopt` or `pyportfolioopt` for optimization routines.\n",
    "  - **R**: `quantmod` for data acquisition, `PerformanceAnalytics` for performance and risk analysis, `quadprog` for quadratic programming.\n",
    "\n",
    "### Example Implementation Steps in Python\n",
    "1. **Data Acquisition**:\n",
    "    ```python\n",
    "    import yfinance as yf\n",
    "    tickers = ['AAPL', 'MSFT', 'GOOGL']\n",
    "    data = yf.download(tickers, start=\"2020-01-01\", end=\"2023-01-01\")['Adj Close']\n",
    "    returns = data.pct_change().dropna()\n",
    "    ```\n",
    "2. **Expected Returns and Covariance Matrix**:\n",
    "    ```python\n",
    "    import numpy as np\n",
    "    expected_returns = returns.mean()\n",
    "    covariance_matrix = returns.cov()\n",
    "    ```\n",
    "3. **Optimization**:\n",
    "    ```python\n",
    "    from scipy.optimize import minimize\n",
    "\n",
    "    def portfolio_performance(weights, expected_returns, covariance_matrix):\n",
    "        portfolio_return = np.sum(weights * expected_returns)\n",
    "        portfolio_volatility = np.sqrt(np.dot(weights.T, np.dot(covariance_matrix, weights)))\n",
    "        return portfolio_return, portfolio_volatility\n",
    "\n",
    "    def negative_sharpe_ratio(weights, expected_returns, covariance_matrix, risk_free_rate):\n",
    "        p_return, p_volatility = portfolio_performance(weights, expected_returns, covariance_matrix)\n",
    "        return - (p_return - risk_free_rate) / p_volatility\n",
    "\n",
    "    num_assets = len(tickers)\n",
    "    args = (expected_returns, covariance_matrix, 0.01)  # Example risk-free rate\n",
    "    constraints = ({'type': 'eq', 'fun': lambda x: np.sum(x) - 1})\n",
    "    bounds = tuple((0, 1) for asset in range(num_assets))\n",
    "    result = minimize(negative_sharpe_ratio, num_assets * [1. / num_assets,], args=args, method='SLSQP', bounds=bounds, constraints=constraints)\n",
    "    optimized_weights = result.x\n",
    "    ```\n",
    "4. **Visualization**:\n",
    "    ```python\n",
    "    import matplotlib.pyplot as plt\n",
    "\n",
    "    # Generate random portfolios for visualization of the efficient frontier\n",
    "    def random_portfolios(num_portfolios, expected_returns, covariance_matrix):\n",
    "        results = np.zeros((3, num_portfolios))\n",
    "        weights_record = []\n",
    "        for i in range(num_portfolios):\n",
    "            weights = np.random.random(num_assets)\n",
    "            weights /= np.sum(weights)\n",
    "            portfolio_return, portfolio_volatility = portfolio_performance(weights, expected_returns, covariance_matrix)\n",
    "            results[0,i] = portfolio_return\n",
    "            results[1,i] = portfolio_volatility\n",
    "            results[2,i] = (portfolio_return - 0.01) / portfolio_volatility\n",
    "            weights_record.append(weights)\n",
    "        return results, weights_record\n",
    "\n",
    "    results, weights = random_portfolios(5000, expected_returns, covariance_matrix)\n",
    "\n",
    "    plt.scatter(results[1,:], results[0,:], c=results[2,:], cmap='YlGnBu', marker='o')\n",
    "    plt.colorbar(label='Sharpe Ratio')\n",
    "    plt.xlabel('Volatility')\n",
    "    plt.ylabel('Return')\n",
    "    plt.scatter(portfolio_performance(optimized_weights, expected_returns, covariance_matrix)[1],\n",
    "                portfolio_performance(optimized_weights, expected_returns, covariance_matrix)[0], marker='*', color='r', s=100)\n",
    "    plt.show()\n",
    "    ```\n",
    "\n",
    "These steps provide a foundation for implementing Modern Portfolio Theory in a program, allowing for the construction and analysis of optimal portfolios based on historical data and user-defined constraints."
   ]
  },
  {
   "cell_type": "markdown",
   "metadata": {},
   "source": [
    "```mermaid\n",
    "graph TD;\n",
    "    M[Movies]\n",
    "    U[User]\n",
    "    AS(Admin Status)\n",
    "    UID(\"<u>User ID</u>\")\n",
    "    MID(\"<u>Movie ID</u>\")\n",
    "    C(Num Ratings)\n",
    "    R[Rating]\n",
    "    C(Count)\n",
    "    V(Value)\n",
    "\n",
    "    M-->MID\n",
    "    U-->UID\n",
    "    U-->AS\n",
    "    R-->C\n",
    "    R-->V\n",
    "```"
   ]
  },
  {
   "cell_type": "markdown",
   "metadata": {},
   "source": [
    "## 2: Link to modules & come up with some ways to (1) increae complexity, (2) generate/obtain data"
   ]
  }
 ],
 "metadata": {
  "language_info": {
   "name": "python"
  }
 },
 "nbformat": 4,
 "nbformat_minor": 2
}
